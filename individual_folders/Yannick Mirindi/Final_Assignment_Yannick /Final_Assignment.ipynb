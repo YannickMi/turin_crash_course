{
 "cells": [
  {
   "cell_type": "markdown",
   "metadata": {},
   "source": [
    "# Coding Space for Final Assignment"
   ]
  },
  {
   "cell_type": "markdown",
   "metadata": {},
   "source": [
    "\"We looked at one indicator related to extreme heat: annual days where maximum temperatures exceed 35 degrees C (95 degrees F). This level of heat is associated with **severe health impacts** and stress to economies and infrastructure. The IPCC says extreme heat in urban areas will **increase levels of mortality** and **heat-related illnesses**, especially among the elderly and young children; impair concentration and cognition, affecting learning and educational outcomes for children.\" https://www.wri.org/insights/future-extreme-heat-cities-data \n",
    "\n",
    "Given that I am from the Democratic Republic of Congo, I decided to focus on urban settlements in this country."
   ]
  }
 ],
 "metadata": {
  "kernelspec": {
   "display_name": "Bash",
   "language": "bash",
   "name": "bash"
  },
  "language_info": {
   "name": "bash"
  }
 },
 "nbformat": 4,
 "nbformat_minor": 2
}
